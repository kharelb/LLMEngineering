{
 "cells": [
  {
   "metadata": {
    "ExecuteTime": {
     "end_time": "2025-05-19T19:52:25.094506Z",
     "start_time": "2025-05-19T19:52:24.646033Z"
    }
   },
   "cell_type": "code",
   "source": [
    "import os\n",
    "import requests\n",
    "from bs4 import BeautifulSoup\n",
    "from selenium import webdriver\n",
    "from selenium.webdriver.chrome.service import  Service\n",
    "from selenium.webdriver.chrome.options import Options\n",
    "from pathlib import Path\n",
    "from IPython.display import Markdown, display\n",
    "from openai import OpenAI\n",
    "from dotenv import load_dotenv"
   ],
   "id": "9de51e1c8241e268",
   "outputs": [],
   "execution_count": 1
  },
  {
   "metadata": {
    "ExecuteTime": {
     "end_time": "2025-05-19T19:52:41.125159Z",
     "start_time": "2025-05-19T19:52:41.118829Z"
    }
   },
   "cell_type": "code",
   "source": [
    "class WebsiteSummarizer:\n",
    "    headers = {\"User-Agent\": \"Mozilla/5.0 (Windows NT 10.0; Win64; x64 AppleWebKit/537.36 (KHTML, like Gecko) Chrome/117.0.0.0 Safari/537.36\"}\n",
    "    system_prompt = \"You are an assistant that analyzes the contents of a website \\\n",
    "                    and provides a short summary, ignoring text that might be navigation related. \\\n",
    "                    Respond in markdown.\"\n",
    "\n",
    "    def __init__(self, url, model, api_key, is_openai_api=False, user_prompt=None):\n",
    "        self.url = url\n",
    "        self.model = model\n",
    "        self.api_key = api_key\n",
    "        self.is_openai_api = is_openai_api\n",
    "        self.user_prompt = user_prompt\n",
    "\n",
    "    def use_requests(self):\n",
    "        response = requests.get(self.url, headers=self.headers).text\n",
    "        soup = BeautifulSoup(response, 'lxml')\n",
    "        return soup\n",
    "\n",
    "    def use_selenium(self):\n",
    "        # options = Options()\n",
    "        # options.add_argument(\"--headless\")\n",
    "        # options.add_argument(\"--no-sandbox\")\n",
    "        service = Service(Path.cwd().resolve()/\"chromedriver-mac-arm64\"/\"chromedriver\")\n",
    "        driver = webdriver.Chrome(service=service)\n",
    "        driver.get(self.url)\n",
    "        html_content = driver.page_source\n",
    "        soup = BeautifulSoup(html_content, \"lxml\")\n",
    "        driver.quit()\n",
    "        return soup\n",
    "\n",
    "\n",
    "    def get_html(self):\n",
    "        soup = self.use_requests()\n",
    "        if soup.select_one(\"noscript #challenge-error-text\") or \"cdn-cgi/challenge-platform\" in soup:\n",
    "            print(\"Requests: Detected Cloudflare anti-bot challenge so using Selenium\")\n",
    "            soup = self.use_selenium()\n",
    "\n",
    "\n",
    "        title = soup.title.string if soup.title else \"No title found\"\n",
    "\n",
    "        for irrelevant in soup.body([\"script\", \"style\", \"img\", \"input\"]):\n",
    "            irrelevant.decompose()\n",
    "\n",
    "        text = soup.body.get_text(separator=\"\\n\", strip=True)\n",
    "\n",
    "        return title, text\n",
    "\n",
    "\n",
    "    def create_user_prompt(self):\n",
    "        title, text = self.get_html()\n",
    "        user_prompt = f\"You are looking at a website titled {title}\"\n",
    "\n",
    "        if self.user_prompt:\n",
    "            user_prompt += self.user_prompt\n",
    "        else:\n",
    "            user_prompt += \"\\nThe contents of this website is as follows; \\\n",
    "                        please provide a short summary of this website in markdown. \\\n",
    "        I               If it includes news or announcements, then summarize these too.\\n\\n\"\n",
    "        user_prompt += text\n",
    "        return user_prompt\n",
    "\n",
    "    def message_for_llm(self):\n",
    "        return [\n",
    "            {\"role\": \"system\", \"content\": self.system_prompt},\n",
    "            {\"role\": \"user\", \"content\": self.create_user_prompt()}\n",
    "        ]\n",
    "\n",
    "\n",
    "    def initialize_openai_api(self):\n",
    "        load_dotenv(override=True)\n",
    "        api_key = os.getenv(\"OPENAI_API_KEY\")\n",
    "\n",
    "        # Check the key\n",
    "        if not api_key:\n",
    "            print(\"No API key was found - please head over to the troubleshooting notebook in this folder to identify & fix!\")\n",
    "        elif not api_key.startswith(\"sk-proj-\"):\n",
    "            print(\"An API key was found, but it doesn't start sk-proj-; please check you're using the right key - see troubleshooting notebook\")\n",
    "        elif api_key.strip() != api_key:\n",
    "            print(\"An API key was found, but it looks like it might have space or tab characters at the start or end - please remove them - see troubleshooting notebook\")\n",
    "        else:\n",
    "            print(\"API key found and looks good so far!\")\n",
    "\n",
    "    def summarize(self):\n",
    "        # Summarize by using opeanai API\n",
    "        if self.is_openai_api:\n",
    "            self.initialize_openai_api()\n",
    "            openai = OpenAI()\n",
    "        else:\n",
    "            openai = OpenAI(base_url='http://localhost:11434/v1', api_key=self.api_key)  ## ollama via openai api\n",
    "\n",
    "        response = openai.chat.completions.create(\n",
    "        model = self.model,   # Example \"gpt-4o-mini\"\n",
    "        messages = self.message_for_llm()\n",
    "        )\n",
    "        return response.choices[0].message.content\n",
    "\n",
    "    def __call__(self):\n",
    "        return self.summarize()"
   ],
   "id": "52f0fb39e3970c5c",
   "outputs": [],
   "execution_count": 3
  },
  {
   "metadata": {
    "ExecuteTime": {
     "end_time": "2025-05-19T19:52:52.603111Z",
     "start_time": "2025-05-19T19:52:45.603919Z"
    }
   },
   "cell_type": "code",
   "source": "summarized = WebsiteSummarizer(\"https://edwarddonner.com\")()",
   "id": "3aea9c15a977e706",
   "outputs": [
    {
     "name": "stdout",
     "output_type": "stream",
     "text": [
      "API key found and looks good so far!\n"
     ]
    }
   ],
   "execution_count": 4
  },
  {
   "metadata": {
    "ExecuteTime": {
     "end_time": "2025-05-19T19:52:54.659690Z",
     "start_time": "2025-05-19T19:52:54.656151Z"
    }
   },
   "cell_type": "code",
   "source": "print(summarized)",
   "id": "41aa6b2f0d82f889",
   "outputs": [
    {
     "name": "stdout",
     "output_type": "stream",
     "text": [
      "# Summary of Edward Donner's Website\n",
      "\n",
      "Edward Donner is a coder and LLM (Large Language Model) enthusiast, sharing his interests in technology and music. He is the co-founder and CTO of Nebula.io, where the focus is on utilizing AI to help individuals maximize their potential, specifically in talent recruitment. Previously, he was the founder and CEO of an AI startup called untapt, which was acquired in 2021.\n",
      "\n",
      "## Main Features\n",
      "- **Connect Four**: A feature exploring competitive interactions between LLMs.\n",
      "- **Outsmart**: An arena that challenges LLMs in a mix of diplomacy and strategic gameplay.\n",
      "\n",
      "## News and Announcements\n",
      "- **May 18, 2025**: Upcoming \"AI Executive Briefing\"\n",
      "- **April 21, 2025**: Launch of \"The Complete Agentic AI Engineering Course\"\n",
      "- **January 23, 2025**: Hosting an LLM hands-on workshop with resources.\n",
      "- **December 21, 2024**: Welcoming a group referred to as \"SuperDataScientists\".\n",
      "\n",
      "Overall, the website communicates Ed's passion for AI, coding, and music, while providing information about his professional endeavors and upcoming events in the field of AI.\n"
     ]
    }
   ],
   "execution_count": 5
  },
  {
   "metadata": {
    "ExecuteTime": {
     "end_time": "2025-05-19T19:52:58.322983Z",
     "start_time": "2025-05-19T19:52:58.319091Z"
    }
   },
   "cell_type": "code",
   "source": [
    "# A function to display this nicely in the Jupyter output, using markdown\n",
    "# A function to display this nicely in the Jupyter output, using markdown\n",
    "def display_summary(url, model, api_key, is_openai_model=False, userprompt=None, systemprompt=None):\n",
    "    summary = WebsiteSummarizer(url=url, model=model, api_key=api_key, is_openai_api=is_openai_model)\n",
    "    if userprompt:\n",
    "        summary.userprompt = userprompt\n",
    "\n",
    "    if systemprompt:\n",
    "        summary.system_prompt = systemprompt\n",
    "\n",
    "    summarized = summary()\n",
    "\n",
    "    display(Markdown(summarized))"
   ],
   "id": "1468d2287b9003c0",
   "outputs": [],
   "execution_count": 6
  },
  {
   "metadata": {
    "ExecuteTime": {
     "end_time": "2025-05-19T19:54:45.573159Z",
     "start_time": "2025-05-19T19:54:39.446530Z"
    }
   },
   "cell_type": "code",
   "source": "display_summary(\"https://cnn.com\")",
   "id": "4f29dac2bb62dc3a",
   "outputs": [
    {
     "name": "stdout",
     "output_type": "stream",
     "text": [
      "API key found and looks good so far!\n"
     ]
    },
    {
     "data": {
      "text/plain": [
       "<IPython.core.display.Markdown object>"
      ],
      "text/markdown": "# Summary of CNN Website\n\nCNN's website provides up-to-date news coverage across various categories including U.S. news, world events, politics, business, health, entertainment, sports, science, and climate issues. The platform includes in-depth articles, live updates, and video segments highlighting significant stories of the day. \n\n## Notable Recent News:\n- **Ukraine-Russia War:** An analysis of the ongoing conflict, mentioning unresolved issues and actions by both sides.\n- **Sean “Diddy” Combs Trial:** Focusing on the ongoing legal proceedings against Combs, with detailed testimonies from various witnesses about allegations of violence and control in his relationship with Cassie Ventura.\n- **Natural Disasters:** Reports on strong tornadoes affecting parts of the central U.S. and coverage of a tragic incident where a train hit a family, resulting in fatalities.\n- **Political Updates:** Developments regarding U.S. immigration policies and other significant political moves, including actions from former President Trump.\n\nIn addition to news articles, CNN also features multimedia content such as videos and podcasts, making it a comprehensive source for current events and in-depth analysis. The site emphasizes live updates and trending stories to keep viewers informed in real-time."
     },
     "metadata": {},
     "output_type": "display_data"
    }
   ],
   "execution_count": 9
  },
  {
   "metadata": {
    "ExecuteTime": {
     "end_time": "2025-05-19T19:53:36.973580Z",
     "start_time": "2025-05-19T19:53:29.265590Z"
    }
   },
   "cell_type": "code",
   "source": "display_summary(\"https://openai.com\")",
   "id": "37f49bd323fd84bf",
   "outputs": [
    {
     "name": "stdout",
     "output_type": "stream",
     "text": [
      "API key found and looks good so far!\n",
      "Requests: Detected Cloudflare anti-bot challenge so using Selenium\n"
     ]
    },
    {
     "data": {
      "text/plain": [
       "<IPython.core.display.Markdown object>"
      ],
      "text/markdown": "# OpenAI Website Summary\n\nOpenAI's website serves as a comprehensive platform showcasing its various offerings, including the ChatGPT tool, its API for developers, and research advancements. Below are the key sections and recent news highlighted on the site:\n\n## Key Features:\n- **ChatGPT**: An interactive tool for users to engage in conversations, plan, and retrieve information across various topics.\n- **Sora**: A platform with features aimed at enhancing user experience in specific applications.\n- **API Platform**: Provides documentation and tools for businesses and developers to integrate OpenAI's AI capabilities into their applications.\n\n## Research and Advancements:\n- **Research Index**: An overview of OpenAI's current research initiatives and publications.\n- **Latest Models**: Introduction of advanced models such as GPT-4.5 and OpenAI o4-mini, focusing on improvements in capabilities and applications.\n\n## Recent News:\n1. **Evolving OpenAI’s Structure** - Announced on May 5, 2025, detailing organizational changes.\n2. **New Image Generation Model** - Released on April 23, 2025, enhancing OpenAI's visual content capabilities.\n3. **Nonprofit Commission Advisors** - Introduced on April 15, 2025, aimed at guiding OpenAI's ethical framework and initiatives.\n4. **Updated Preparedness Framework** - Published on April 15, 2025, outlining safety and preparedness measures.\n\nThe site serves as a central hub for accessing AI tools, capabilities, and the latest news regarding OpenAI's ongoing projects and advancements in the field of artificial intelligence."
     },
     "metadata": {},
     "output_type": "display_data"
    }
   ],
   "execution_count": 8
  }
 ],
 "metadata": {
  "kernelspec": {
   "display_name": "Python 3",
   "language": "python",
   "name": "python3"
  },
  "language_info": {
   "codemirror_mode": {
    "name": "ipython",
    "version": 2
   },
   "file_extension": ".py",
   "mimetype": "text/x-python",
   "name": "python",
   "nbconvert_exporter": "python",
   "pygments_lexer": "ipython2",
   "version": "2.7.6"
  }
 },
 "nbformat": 4,
 "nbformat_minor": 5
}
