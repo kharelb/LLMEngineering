{
 "cells": [
  {
   "cell_type": "code",
   "id": "initial_id",
   "metadata": {
    "collapsed": true,
    "ExecuteTime": {
     "end_time": "2025-05-26T14:31:02.443919Z",
     "start_time": "2025-05-26T14:31:02.194390Z"
    }
   },
   "source": [
    "# imports\n",
    "import os\n",
    "from pathlib import Path\n",
    "from IPython.display import Markdown, display, update_display\n",
    "from dotenv import load_dotenv\n",
    "from openai import OpenAI"
   ],
   "outputs": [],
   "execution_count": 1
  },
  {
   "metadata": {
    "ExecuteTime": {
     "end_time": "2025-05-26T14:31:02.459246Z",
     "start_time": "2025-05-26T14:31:02.457304Z"
    }
   },
   "cell_type": "code",
   "source": [
    "# models\n",
    "MODEL_GPT = 'gpt-4o-mini'\n",
    "MODEL_LLAMA = 'llama3.2'"
   ],
   "id": "4aed675cd6fe0e46",
   "outputs": [],
   "execution_count": 2
  },
  {
   "metadata": {
    "ExecuteTime": {
     "end_time": "2025-05-26T14:37:20.700482Z",
     "start_time": "2025-05-26T14:37:20.694757Z"
    }
   },
   "cell_type": "code",
   "source": [
    "# set up environment\n",
    "class CodingAssistant:\n",
    "    system_prompt = \"You are an assistant that analyzes or creates or help correcting \\\n",
    "                       python based codes. You are also expert in answering python programming \\\n",
    "                       related problems.\\\n",
    "                       Respond your anwers in markdown with code or code snippets provided within ``` ``` marks.\\\n",
    "                       \"\n",
    "    def __init__(self, model, api_key, is_openai_api=False, stream=False):\n",
    "        self.model = model\n",
    "        self.api_key = api_key\n",
    "        self.is_openai_api = is_openai_api\n",
    "        self.stream = stream\n",
    "\n",
    "    def initialize_openai_api(self):\n",
    "        load_dotenv(override=True)\n",
    "        api_key = os.getenv(self.api_key)\n",
    "\n",
    "        # Check the key\n",
    "        if not api_key:\n",
    "            print(\"No API key was found - please head over to the troubleshooting notebook in this folder to identify & fix!\")\n",
    "        elif not api_key.startswith(\"sk-proj-\"):\n",
    "            print(\"An API key was found, but it doesn't start sk-proj-; please check you're using the right key - see troubleshooting notebook\")\n",
    "        elif api_key.strip() != api_key:\n",
    "            print(\"An API key was found, but it looks like it might have space or tab characters at the start or end - please remove them - see troubleshooting notebook\")\n",
    "        else:\n",
    "            print(\"API key found and looks good so far!\")\n",
    "\n",
    "    def message_for_llm(self, question):\n",
    "        return [\n",
    "            {\"role\": \"system\", \"content\": self.system_prompt},\n",
    "            {\"role\": \"user\", \"content\": question}\n",
    "        ]\n",
    "\n",
    "\n",
    "    def static_response(self, question):\n",
    "        if self.is_openai_api:\n",
    "            self.initialize_openai_api()\n",
    "            openai = OpenAI()\n",
    "        else:\n",
    "            openai = OpenAI(base_url='http://localhost:11434/v1', api_key=self.api_key)\n",
    "\n",
    "        response = openai.chat.completions.create(\n",
    "        model = self.model,   # Example \"gpt-4o-mini\"\n",
    "        messages = self.message_for_llm(question))\n",
    "        return response.choices[0].message.content\n",
    "\n",
    "    def stream_response(self, question):\n",
    "        if self.is_openai_api:\n",
    "            self.initialize_openai_api()\n",
    "            openai = OpenAI()\n",
    "        else:\n",
    "            openai = OpenAI(base_url='http://localhost:11434/v1', api_key=self.api_key)\n",
    "\n",
    "        stream = openai.chat.completions.create(model=self.model,\n",
    "                                                messages=[{\"role\": \"system\", \"content\": self.system_prompt},\n",
    "                                                          {\"role\": \"user\", \"content\": question}\n",
    "                                                         ],\n",
    "                                                stream=True\n",
    "                                               )\n",
    "        response = \"\"\n",
    "        display_handle = display(Markdown(\"\"), display_id=True)\n",
    "        for chunk in stream:\n",
    "            response += chunk.choices[0].delta.content or ''\n",
    "            # response = response.replace(\"```\",\"\").replace(\"markdown\", \"\")\n",
    "            update_display(Markdown(response), display_id=display_handle.display_id)\n",
    "\n",
    "\n",
    "    def ask(self, question):\n",
    "        if self.stream:\n",
    "            self.stream_response(question)\n",
    "\n",
    "        else:\n",
    "            response = self.static_response(question)\n",
    "            display(Markdown(response))"
   ],
   "id": "cb990101aabc9e0",
   "outputs": [],
   "execution_count": 9
  },
  {
   "metadata": {
    "ExecuteTime": {
     "end_time": "2025-05-26T14:37:21.284617Z",
     "start_time": "2025-05-26T14:37:21.282438Z"
    }
   },
   "cell_type": "code",
   "source": [
    "assistant = CodingAssistant(model=MODEL_GPT, api_key=\"OPENAI_API_KEY\",\n",
    "                            is_openai_api=True, stream=True)"
   ],
   "id": "dbb9d32b61ab2c1",
   "outputs": [],
   "execution_count": 10
  },
  {
   "metadata": {
    "ExecuteTime": {
     "end_time": "2025-05-26T14:38:28.561869Z",
     "start_time": "2025-05-26T14:38:08.232798Z"
    }
   },
   "cell_type": "code",
   "source": "assistant.ask(question=\"Give important python dunder examples and methods\")",
   "id": "6b921b83648df1fb",
   "outputs": [
    {
     "name": "stdout",
     "output_type": "stream",
     "text": [
      "API key found and looks good so far!\n"
     ]
    },
    {
     "data": {
      "text/plain": [
       "<IPython.core.display.Markdown object>"
      ],
      "text/markdown": "Dunder methods, or \"double underscore\" methods, are special methods in Python that allow developers to define the behavior of certain operations on objects. They are also known as \"magic methods.\" Here are some important dunder methods along with examples to illustrate their usage:\n\n### 1. `__init__`\nThe initializer method, called when an instance of a class is created.\n\n```python\nclass Point:\n    def __init__(self, x, y):\n        self.x = x\n        self.y = y\n\np = Point(3, 4)\nprint(p.x, p.y)  # Output: 3 4\n```\n\n### 2. `__str__`\nDefines a string representation of an object when using `print()` or `str()`.\n\n```python\nclass Point:\n    def __init__(self, x, y):\n        self.x = x\n        self.y = y\n    \n    def __str__(self):\n        return f\"Point({self.x}, {self.y})\"\n\np = Point(3, 4)\nprint(p)  # Output: Point(3, 4)\n```\n\n### 3. `__repr__`\nDefines an \"official\" string representation of an object, typically used for debugging.\n\n```python\nclass Point:\n    def __init__(self, x, y):\n        self.x = x\n        self.y = y\n    \n    def __repr__(self):\n        return f\"Point({self.x}, {self.y})\"\n\np = Point(3, 4)\nprint(repr(p))  # Output: Point(3, 4)\n```\n\n### 4. `__len__`\nAllows an object to respond to the `len()` function.\n\n```python\nclass MyList:\n    def __init__(self, items):\n        self.items = items\n\n    def __len__(self):\n        return len(self.items)\n\nmy_list = MyList([1, 2, 3, 4])\nprint(len(my_list))  # Output: 4\n```\n\n### 5. `__getitem__`\nAllows indexing into an object using square brackets.\n\n```python\nclass MyList:\n    def __init__(self, items):\n        self.items = items\n\n    def __getitem__(self, index):\n        return self.items[index]\n\nmy_list = MyList([10, 20, 30])\nprint(my_list[1])  # Output: 20\n```\n\n### 6. `__setitem__`\nAllows assignment to an index in an object.\n\n```python\nclass MyList:\n    def __init__(self):\n        self.items = []\n\n    def __setitem__(self, index, value):\n        self.items.insert(index, value)\n\nmy_list = MyList()\nmy_list[0] = 10\nmy_list[1] = 20\nprint(my_list.items)  # Output: [10, 20]\n```\n\n### 7. `__add__`\nDefines behavior for the addition operator `+`.\n\n```python\nclass Vector:\n    def __init__(self, x, y):\n        self.x = x\n        self.y = y\n\n    def __add__(self, other):\n        return Vector(self.x + other.x, self.y + other.y)\n\nv1 = Vector(2, 3)\nv2 = Vector(5, 7)\nv3 = v1 + v2\nprint(v3.x, v3.y)  # Output: 7 10\n```\n\n### 8. `__eq__`\nDefines behavior for equality comparisons using `==`.\n\n```python\nclass Person:\n    def __init__(self, name):\n        self.name = name\n\n    def __eq__(self, other):\n        return self.name == other.name\n\np1 = Person(\"Alice\")\np2 = Person(\"Alice\")\np3 = Person(\"Bob\")\nprint(p1 == p2)  # Output: True\nprint(p1 == p3)  # Output: False\n```\n\n### 9. `__iter__`\nAllows an object to be iterable.\n\n```python\nclass MyRange:\n    def __init__(self, start, end):\n        self.start = start\n        self.end = end\n        \n    def __iter__(self):\n        self.current = self.start\n        return self\n    \n    def __next__(self):\n        if self.current < self.end:\n            result = self.current\n            self.current += 1\n            return result\n        else:\n            raise StopIteration\n\nfor num in MyRange(1, 5):\n    print(num)  # Output: 1 2 3 4\n```\n\n### 10. `__call__`\nAllows an instance of a class to be called as a function.\n\n```python\nclass Multiplier:\n    def __init__(self, factor):\n        self.factor = factor\n\n    def __call__(self, x):\n        return x * self.factor\n\ndouble = Multiplier(2)\nprint(double(5))  # Output: 10\n```\n\nThese examples highlight the versatility and power of dunder methods for customizing object behavior in Python!"
     },
     "metadata": {},
     "output_type": "display_data"
    }
   ],
   "execution_count": 12
  },
  {
   "metadata": {
    "ExecuteTime": {
     "end_time": "2025-05-26T14:44:45.854558Z",
     "start_time": "2025-05-26T14:44:45.849680Z"
    }
   },
   "cell_type": "code",
   "source": [
    "ollama_assistant = CodingAssistant(model=MODEL_LLAMA, api_key=\"ollama\",\n",
    "                                   is_openai_api=False, stream=True)"
   ],
   "id": "ec49b97e6c69daaf",
   "outputs": [],
   "execution_count": 15
  },
  {
   "metadata": {
    "ExecuteTime": {
     "end_time": "2025-05-26T14:45:05.579875Z",
     "start_time": "2025-05-26T14:44:47.143075Z"
    }
   },
   "cell_type": "code",
   "source": "ollama_assistant.ask(question=\"Give important python dunder examples and methods\")",
   "id": "fe15a9966d6648f6",
   "outputs": [
    {
     "data": {
      "text/plain": [
       "<IPython.core.display.Markdown object>"
      ],
      "text/markdown": "**Python Dunder Methods**\n==========================\n\nDunder methods, also known as \"magic methods,\" are special methods in Python classes that provide a specific functionality when called. These methods are denoted by double underscores (`__`) on either side of the method name.\n\n### Class Example\n```python\nclass Vector:\n    def __init__(self, x=0, y=0):\n        self.x = x\n        self.y = y\n\n    def __add__(self, other):\n        \"\"\"Return a new Vector with the coordinates added\"\"\"\n        return Vector(self.x + other.x, self.y + other.y)\n\n    def __str__(self):\n        \"\"\"Return a string representation of the Vector\"\"\"\n        return f\"Vector({self.x}, {self.y})\"\n\n# Usage\nv1 = Vector(2, 3)\nv2 = Vector(4, 5)\n\nprint(v1 + v2)  # Output: Vector(6, 8)\n```\nIn this example, `__add__` is a dunder method that returns a new `Vector` object with the coordinates added.\n\n### Example Dunder Methods\n-------------------------\n\nHere are some common Python dunder methods:\n\n#### **Initialization**\n\n* `__init__(self, ...)`: Initializes the object's attributes.\n* `__new__(cls, ...)`: Creates a new instance of the class.\n\n#### **String Conversion**\n\n* `__str__(self)`: Returns a string representation of the object.\n* `__repr__(self)`: Returns a string representation of the object that can be used to recreate it.\n\n```python\nclass Person:\n    def __init__(self, name, age):\n        self.name = name\n        self.age = age\n\n    def __str__(self):\n        return f\"{self.name} is {self.age} years old.\"\n\np = Person(\"John\", 30)\nprint(p)  # Output: John is 30 years old.\n```\n\n#### **Container Operations**\n\n* `__getitem__(self, index)`: Returns the element at the specified index (e.g., array indexing).\n* `__setitem__(self, index, value)`: Sets the element at the specified index to the given value.\n* `__len__(self)`: Returns the length of the object.\n\n```python\nclass ListLike:\n    def __init__(self, elements):\n        self.elements = elements\n\n    def __getitem__(self, index):\n        return self.elements[index]\n\n# Usage\nll = ListLike([1, 2, 3])\nprint(ll[0])  # Output: 1\n```\n\n#### **Comparison**\n\n* `__eq__(self, other)`: Returns `True` if the object is equal to the given object.\n* `__lt__(self, other)` etc.\n\n```python\nclass Person:\n    def __init__(self, name, age):\n        self.name = name\n        self.age = age\n\np1 = Person(\"John\", 30)\np2 = Person(\"John\", 30)\n\nprint(p1 == p2)  # Output: True\n```\n\n#### **Container Iteration**\n\n* `__iter__(self)` returns an iterator object.\n* `__next__(self)` is the method called by the iterator to retrieve the next value.\n\n```python\nclass NumberIterator:\n    def __init__(self, start, end):\n        self.start = start\n        self.end = end\n\n    def __iter__(self):\n        return self\n\n    def __next__(self):\n        if self.start < self.end:\n            result = self.start\n            self.start += 1\n            return result\n        else:\n            raise StopIteration\n\n# Usage\nnum_iter = NumberIterator(0, 10)\n\nfor num in num_iter:\n    print(num)  # Output: 0, 1, ..., 9\n```\n\nNote that these are just a few examples of Python dunder methods. There are many more!"
     },
     "metadata": {},
     "output_type": "display_data"
    }
   ],
   "execution_count": 16
  },
  {
   "metadata": {},
   "cell_type": "code",
   "outputs": [],
   "execution_count": null,
   "source": "",
   "id": "d749468aba26068b"
  }
 ],
 "metadata": {
  "kernelspec": {
   "display_name": "Python 3",
   "language": "python",
   "name": "python3"
  },
  "language_info": {
   "codemirror_mode": {
    "name": "ipython",
    "version": 2
   },
   "file_extension": ".py",
   "mimetype": "text/x-python",
   "name": "python",
   "nbconvert_exporter": "python",
   "pygments_lexer": "ipython2",
   "version": "2.7.6"
  }
 },
 "nbformat": 4,
 "nbformat_minor": 5
}
